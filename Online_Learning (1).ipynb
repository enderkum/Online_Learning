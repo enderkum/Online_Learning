{
  "nbformat": 4,
  "nbformat_minor": 0,
  "metadata": {
    "colab": {
      "name": "Online_Learning.ipynb",
      "provenance": [],
      "collapsed_sections": []
    },
    "kernelspec": {
      "name": "python3",
      "display_name": "Python 3"
    }
  },
  "cells": [
    {
      "cell_type": "markdown",
      "metadata": {
        "id": "m5BXaMnBgJLR"
      },
      "source": [
        "Create a data set for three classes and train them for classification.  We want to have two classes with high accuracy and one with low accuracy. So, we will select samples for one class from a population with high variance."
      ]
    },
    {
      "cell_type": "code",
      "metadata": {
        "id": "7I0Gz12ggFlL"
      },
      "source": [
        "# import libraries\r\n",
        "import numpy as np\r\n",
        "from numpy import random\r\n",
        "\r\n",
        "from sklearn.neural_network import MLPClassifier\r\n",
        "from sklearn.model_selection import train_test_split\r\n",
        "from sklearn.preprocessing import StandardScaler\r\n"
      ],
      "execution_count": 1,
      "outputs": []
    },
    {
      "cell_type": "code",
      "metadata": {
        "colab": {
          "base_uri": "https://localhost:8080/"
        },
        "id": "is9g7wDL1kAL",
        "outputId": "aa2df218-7df7-4cad-8714-31b75e765384"
      },
      "source": [
        "# Create features\r\n",
        "import random\r\n",
        "\r\n",
        "# features for the 1st class\r\n",
        "x0 = np.random.normal(5, 3, size=(100, 10))\r\n",
        "\r\n",
        "# Select x1 from a population of 500 samples with high variance\r\n",
        "# Create a population\r\n",
        "population = np.random.normal(15, 14, size=(500, 10)).tolist()   # set high variance to get low accuracy\r\n",
        "print(\"shape of population\", np.shape(population))\r\n",
        "# Select 60 samples from the population randomly\r\n",
        "x1 = np.array([population.pop(random.randint(0, len(population)-1)) for i in range(60)])\r\n",
        "\r\n",
        "# features for the 3rd class\r\n",
        "x2 = np.random.normal(25, 3, size=(100, 10))\r\n",
        "\r\n",
        "print(' x0 {}: \\n  {} \\n ... \\n x1 {}: \\n  {} \\n ... \\n x2 {}: \\n  {} \\n ...'.format(x0.shape, x0[:3], x1.shape, x1[:3], x2.shape, x2[:3]))\r\n",
        "print(\"shape of population\", np.shape(population)) # check the current population"
      ],
      "execution_count": 2,
      "outputs": [
        {
          "output_type": "stream",
          "text": [
            "shape of population (500, 10)\n",
            " x0 (100, 10): \n",
            "  [[ 8.41726973  2.98252606  6.1984297   2.07471326  1.69771833  6.14455376\n",
            "   5.51578766  1.09238304  2.33462909  5.03102582]\n",
            " [ 9.09834472  2.23872661  7.66332535  5.24862635  3.33125838  3.94802139\n",
            "   7.64779554  5.09040574  8.75703637  2.18961082]\n",
            " [ 1.97679399  5.49250982 11.08203965  2.09697423  6.92231288  0.9122232\n",
            "   4.82871421  8.79039561  5.63199236  4.88838112]] \n",
            " ... \n",
            " x1 (60, 10): \n",
            "  [[  6.66566421  12.05113329  -2.09726908   2.38519845   5.83247561\n",
            "   19.03738668  33.79374313  34.06685941   9.73042407   6.77453357]\n",
            " [  7.86753605  37.43809553  15.04149217  41.56452127  26.03890684\n",
            "   -0.14098779   9.76694119 -13.35263324  14.75317651  51.54146923]\n",
            " [ 14.88696879  36.13290804   2.2233465   -7.50641914  14.96521976\n",
            "   -3.8819721   23.94361655  34.49867155  12.4177314   17.92700186]] \n",
            " ... \n",
            " x2 (100, 10): \n",
            "  [[26.09949337 24.78669251 30.255491   26.77741968 26.51244762 25.10713115\n",
            "  25.06107595 26.81203565 21.38855226 23.58028316]\n",
            " [22.87576947 25.16048397 27.10119027 26.89410508 28.66564358 24.05112691\n",
            "  21.18518579 24.67034446 26.66222298 26.09595437]\n",
            " [27.29228513 25.82813664 29.73856877 26.87963355 22.29464278 21.05175674\n",
            "  25.48647437 23.52793621 20.26757271 25.1735138 ]] \n",
            " ...\n",
            "shape of population (440, 10)\n"
          ],
          "name": "stdout"
        }
      ]
    },
    {
      "cell_type": "code",
      "metadata": {
        "colab": {
          "base_uri": "https://localhost:8080/"
        },
        "id": "vzuqRtG3UmMM",
        "outputId": "bb352c4e-ad5f-4863-c6be-66e822f1e167"
      },
      "source": [
        "# Join features\r\n",
        "X = np.concatenate((x0, x1, x2), axis=0)\r\n",
        "print(\" X[1]: \\n  {} \\n X[100]: \\n  {} \\n X[200]: \\n  {} \\n\".format(X[1], X[100], X[200]))\r\n",
        "X.shape"
      ],
      "execution_count": 3,
      "outputs": [
        {
          "output_type": "stream",
          "text": [
            " X[1]: \n",
            "  [9.09834472 2.23872661 7.66332535 5.24862635 3.33125838 3.94802139\n",
            " 7.64779554 5.09040574 8.75703637 2.18961082] \n",
            " X[100]: \n",
            "  [ 6.66566421 12.05113329 -2.09726908  2.38519845  5.83247561 19.03738668\n",
            " 33.79374313 34.06685941  9.73042407  6.77453357] \n",
            " X[200]: \n",
            "  [28.50293297 27.5705933  21.73015841 21.37910063 22.60087559 24.30315997\n",
            " 23.64663723 25.75720197 25.30023742 24.48467782] \n",
            "\n"
          ],
          "name": "stdout"
        },
        {
          "output_type": "execute_result",
          "data": {
            "text/plain": [
              "(260, 10)"
            ]
          },
          "metadata": {
            "tags": []
          },
          "execution_count": 3
        }
      ]
    },
    {
      "cell_type": "code",
      "metadata": {
        "colab": {
          "base_uri": "https://localhost:8080/"
        },
        "id": "z6olPWNtyE70",
        "outputId": "105945b5-0b78-4b55-8689-d06c5e51119d"
      },
      "source": [
        "# Create labels\r\n",
        "y0 = np.zeros(100, dtype=int)\r\n",
        "y1 = np.ones(60, dtype=int)\r\n",
        "#y2 = y1 * 2\r\n",
        "y2 = np.full(100, 2, dtype=int)\r\n",
        "y = np.concatenate((y0, y1, y2))\r\n",
        "y.shape"
      ],
      "execution_count": 4,
      "outputs": [
        {
          "output_type": "execute_result",
          "data": {
            "text/plain": [
              "(260,)"
            ]
          },
          "metadata": {
            "tags": []
          },
          "execution_count": 4
        }
      ]
    },
    {
      "cell_type": "code",
      "metadata": {
        "id": "nki_VZMUn60a"
      },
      "source": [
        "# Split the data\r\n",
        "X = StandardScaler().fit_transform(X)\r\n",
        "\r\n",
        "X_train, X_test, y_train, y_test = train_test_split(X, y, stratify=y, random_state=1)"
      ],
      "execution_count": 5,
      "outputs": []
    },
    {
      "cell_type": "code",
      "metadata": {
        "colab": {
          "base_uri": "https://localhost:8080/"
        },
        "id": "CI84aRs92Xr0",
        "outputId": "0a4b345c-ac7e-4e39-cc3d-4770ebf03c26"
      },
      "source": [
        "# Create and train a Multi-layer Perceptron classifier\r\n",
        "from sklearn.neural_network import MLPClassifier\r\n",
        "from sklearn.metrics import classification_report, confusion_matrix\r\n",
        "\r\n",
        "clf = MLPClassifier(random_state=1, max_iter=300, warm_start=True).fit(X_train, y_train)\r\n",
        "\r\n",
        "# check the results of training\r\n",
        "print(clf.predict_proba(X_test[:1]))\r\n",
        "print(clf.predict(X_test[:5, :]))\r\n",
        "print(clf.score(X_test, y_test))\r\n",
        "\r\n",
        "y_pred = clf.predict(X_test)\r\n",
        "\r\n",
        "# Check other metrics\r\n",
        "print(confusion_matrix(y_test, y_pred))\r\n",
        "print(classification_report(y_test, y_pred))\r\n"
      ],
      "execution_count": 6,
      "outputs": [
        {
          "output_type": "stream",
          "text": [
            "[[9.85278012e-01 1.44393604e-02 2.82627147e-04]]\n",
            "[0 0 1 2 1]\n",
            "0.9230769230769231\n",
            "[[25  0  0]\n",
            " [ 2 10  3]\n",
            " [ 0  0 25]]\n",
            "              precision    recall  f1-score   support\n",
            "\n",
            "           0       0.93      1.00      0.96        25\n",
            "           1       1.00      0.67      0.80        15\n",
            "           2       0.89      1.00      0.94        25\n",
            "\n",
            "    accuracy                           0.92        65\n",
            "   macro avg       0.94      0.89      0.90        65\n",
            "weighted avg       0.93      0.92      0.92        65\n",
            "\n"
          ],
          "name": "stdout"
        },
        {
          "output_type": "stream",
          "text": [
            "/usr/local/lib/python3.6/dist-packages/sklearn/neural_network/_multilayer_perceptron.py:571: ConvergenceWarning: Stochastic Optimizer: Maximum iterations (300) reached and the optimization hasn't converged yet.\n",
            "  % self.max_iter, ConvergenceWarning)\n"
          ],
          "name": "stderr"
        }
      ]
    },
    {
      "cell_type": "code",
      "metadata": {
        "colab": {
          "base_uri": "https://localhost:8080/"
        },
        "id": "y1n4_ksd9rsc",
        "outputId": "b7bc2c21-adc9-41db-9ffa-bea789012196"
      },
      "source": [
        "len(population)  # see if we have enough samples remained"
      ],
      "execution_count": 7,
      "outputs": [
        {
          "output_type": "execute_result",
          "data": {
            "text/plain": [
              "440"
            ]
          },
          "metadata": {
            "tags": []
          },
          "execution_count": 7
        }
      ]
    },
    {
      "cell_type": "code",
      "metadata": {
        "colab": {
          "base_uri": "https://localhost:8080/"
        },
        "id": "yz2Kjf-73gpY",
        "outputId": "74cc02b7-ad34-4007-b2c5-0235a89a434c"
      },
      "source": [
        "# Get 50 more samples from the population\r\n",
        "X1 = np.array([population.pop(random.randint(0, len(population)-1)) for i in range(50)])\r\n",
        "print(X1.shape)\r\n",
        "\r\n",
        "# Join the new features with two samples from other class\r\n",
        "X1 = np.concatenate((x0[:2], X1, x2[:2]), axis=0)\r\n",
        "print(X1[:3])"
      ],
      "execution_count": 8,
      "outputs": [
        {
          "output_type": "stream",
          "text": [
            "(50, 10)\n",
            "[[  8.41726973   2.98252606   6.1984297    2.07471326   1.69771833\n",
            "    6.14455376   5.51578766   1.09238304   2.33462909   5.03102582]\n",
            " [  9.09834472   2.23872661   7.66332535   5.24862635   3.33125838\n",
            "    3.94802139   7.64779554   5.09040574   8.75703637   2.18961082]\n",
            " [ 25.08522259   7.36810576  13.95174957 -12.09217026  10.86283912\n",
            "   21.34760417  13.85234234  -9.65851451  34.15742802  13.7519074 ]]\n"
          ],
          "name": "stdout"
        }
      ]
    },
    {
      "cell_type": "code",
      "metadata": {
        "colab": {
          "base_uri": "https://localhost:8080/"
        },
        "id": "Ff-KIOFi_PtE",
        "outputId": "d679221a-811a-447b-ecc6-5302cece7526"
      },
      "source": [
        "# Prepare relevant labels for the new features\r\n",
        "Y1 = np.ones(50, dtype=int)\r\n",
        "Y1 = np.concatenate((y0[:2], Y1, y2[:2]), axis=0)\r\n",
        "Y1"
      ],
      "execution_count": 9,
      "outputs": [
        {
          "output_type": "execute_result",
          "data": {
            "text/plain": [
              "array([0, 0, 1, 1, 1, 1, 1, 1, 1, 1, 1, 1, 1, 1, 1, 1, 1, 1, 1, 1, 1, 1,\n",
              "       1, 1, 1, 1, 1, 1, 1, 1, 1, 1, 1, 1, 1, 1, 1, 1, 1, 1, 1, 1, 1, 1,\n",
              "       1, 1, 1, 1, 1, 1, 1, 1, 2, 2])"
            ]
          },
          "metadata": {
            "tags": []
          },
          "execution_count": 9
        }
      ]
    },
    {
      "cell_type": "code",
      "metadata": {
        "id": "-RI6lKU_5e81"
      },
      "source": [
        "# Split the data\r\n",
        "X1 = StandardScaler().fit_transform(X1)    \r\n",
        "X1_train, X1_test, y1_train, y1_test = train_test_split(X1, Y1, stratify=Y1, random_state=1)"
      ],
      "execution_count": 10,
      "outputs": []
    },
    {
      "cell_type": "code",
      "metadata": {
        "colab": {
          "base_uri": "https://localhost:8080/"
        },
        "id": "wI0QYekc4W8o",
        "outputId": "c7d3eb9d-7722-4123-e581-b4653e07be16"
      },
      "source": [
        "# Retrain the model with new samples\r\n",
        "\r\n",
        "import statistics\r\n",
        "\r\n",
        "# scores of the model before retraining\r\n",
        "prev_score = clf.score(X_test, y_test)\r\n",
        "Scores = []\r\n",
        "\r\n",
        "# call partial_fit method on new samples iteratively\r\n",
        "while True:\r\n",
        "  clf.partial_fit(X1_train, y1_train)\r\n",
        "  Score = clf.score(X_test, y_test)\r\n",
        "  # allow small decreases in the score\r\n",
        "  if Score >= 0.99*prev_score:\r\n",
        "    Scores.append(Score)\r\n",
        "    prev_score = Score\r\n",
        "  else:\r\n",
        "    break\r\n",
        "\r\n",
        "print(\"num of iterations: \", len(Scores)-1) \r\n",
        "\r\n",
        "# Check again the evaluation metrics\r\n",
        "y_pred = clf.predict(X_test)\r\n",
        "\r\n",
        "print(clf.predict_proba(X_test[:1]))\r\n",
        "print(clf.predict(X_test[:5, :]))\r\n",
        "print(clf.score(X_test, y_test))\r\n",
        "print(\"\")\r\n",
        "print(confusion_matrix(y_test, y_pred))\r\n",
        "print(classification_report(y_test, y_pred))"
      ],
      "execution_count": 11,
      "outputs": [
        {
          "output_type": "stream",
          "text": [
            "num of iterations:  11\n",
            "[[9.55058352e-01 4.43931908e-02 5.48457279e-04]]\n",
            "[0 1 1 1 1]\n",
            "0.9692307692307692\n",
            "\n",
            "[[25  0  0]\n",
            " [ 1 14  0]\n",
            " [ 0  1 24]]\n",
            "              precision    recall  f1-score   support\n",
            "\n",
            "           0       0.96      1.00      0.98        25\n",
            "           1       0.93      0.93      0.93        15\n",
            "           2       1.00      0.96      0.98        25\n",
            "\n",
            "    accuracy                           0.97        65\n",
            "   macro avg       0.96      0.96      0.96        65\n",
            "weighted avg       0.97      0.97      0.97        65\n",
            "\n"
          ],
          "name": "stdout"
        }
      ]
    },
    {
      "cell_type": "code",
      "metadata": {
        "colab": {
          "base_uri": "https://localhost:8080/",
          "height": 301
        },
        "id": "VIMORNOKOJaP",
        "outputId": "69120506-a186-4de7-a55e-175ce2864aad"
      },
      "source": [
        "# Visualize accuracy and number of iterations\r\n",
        "\r\n",
        "import matplotlib.pyplot as plt\r\n",
        "from scipy import interpolate\r\n",
        "%matplotlib inline\r\n",
        "%config InlineBackend.figure_format = 'retina'\r\n",
        "\r\n",
        "iterations = len(Scores) -1\r\n",
        "print(\"iterations: \",iterations)\r\n",
        "\r\n",
        "x = np.linspace(0, iterations+1, iterations+1)\r\n",
        "\r\n",
        "x_new = np.linspace(1, iterations+1, 1000)\r\n",
        "a_BSpline = interpolate.make_interp_spline(x, Scores)\r\n",
        "y_new = a_BSpline(x_new)\r\n",
        "\r\n",
        "plt.plot(x_new, y_new, label='Score')\r\n",
        "plt.legend(frameon=False)"
      ],
      "execution_count": 12,
      "outputs": [
        {
          "output_type": "stream",
          "text": [
            "iterations:  11\n"
          ],
          "name": "stdout"
        },
        {
          "output_type": "execute_result",
          "data": {
            "text/plain": [
              "<matplotlib.legend.Legend at 0x7f1c54f32f28>"
            ]
          },
          "metadata": {
            "tags": []
          },
          "execution_count": 12
        },
        {
          "output_type": "display_data",
          "data": {
            "image/png": "[encoded data removed]",
            "text/plain": [
              "<Figure size 432x288 with 1 Axes>"
            ]
          },
          "metadata": {
            "tags": [],
            "image/png": {
              "width": 378,
              "height": 248
            },
            "needs_background": "light"
          }
        }
      ]
    }
  ]
}