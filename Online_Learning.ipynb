{
  "nbformat": 4,
  "nbformat_minor": 0,
  "metadata": {
    "colab": {
      "name": "Online_Learning.ipynb",
      "provenance": [],
      "collapsed_sections": []
    },
    "kernelspec": {
      "name": "python3",
      "display_name": "Python 3"
    }
  },
  "cells": [
    {
      "cell_type": "markdown",
      "metadata": {
        "id": "m5BXaMnBgJLR"
      },
      "source": [
        "Create a data set for three classes and train them for classification.  We want to have two classes with high accuracy and one with low accuracy. So, we will select samples for one class from a population with high variance."
      ]
    },
    {
      "cell_type": "code",
      "metadata": {
        "id": "7I0Gz12ggFlL"
      },
      "source": [
        "# import libraries\r\n",
        "#import torch\r\n",
        "import numpy as np\r\n",
        "from numpy import random\r\n",
        "\r\n",
        "from sklearn.neural_network import MLPClassifier\r\n",
        "#from sklearn.datasets import make_classification\r\n",
        "from sklearn.model_selection import train_test_split\r\n",
        "from sklearn.preprocessing import StandardScaler\r\n"
      ],
      "execution_count": 1,
      "outputs": []
    },
    {
      "cell_type": "code",
      "metadata": {
        "colab": {
          "base_uri": "https://localhost:8080/"
        },
        "id": "OOIPJUjIoRwn",
        "outputId": "eac6f969-ff21-4d2c-d8d1-6aa9c50d5446"
      },
      "source": [
        "# create data\r\n",
        "\r\n",
        "np.full((10, 3), [0, 1, 2])\r\n"
      ],
      "execution_count": null,
      "outputs": [
        {
          "output_type": "execute_result",
          "data": {
            "text/plain": [
              "array([[0, 1, 2],\n",
              "       [0, 1, 2],\n",
              "       [0, 1, 2],\n",
              "       [0, 1, 2],\n",
              "       [0, 1, 2],\n",
              "       [0, 1, 2],\n",
              "       [0, 1, 2],\n",
              "       [0, 1, 2],\n",
              "       [0, 1, 2],\n",
              "       [0, 1, 2]])"
            ]
          },
          "metadata": {
            "tags": []
          },
          "execution_count": 3
        }
      ]
    },
    {
      "cell_type": "code",
      "metadata": {
        "colab": {
          "base_uri": "https://localhost:8080/"
        },
        "id": "is9g7wDL1kAL",
        "outputId": "e5c8fd51-41b3-407e-9df7-a154451d0db9"
      },
      "source": [
        "# Create features\r\n",
        "import random\r\n",
        "\r\n",
        "x0 = np.random.normal(5, 3, size=(100, 10))\r\n",
        "# Select x1 from a population of 500 samples with high variance\r\n",
        "# Create a population\r\n",
        "population = np.random.normal(15, 16, size=(500, 10)).tolist()   # set high variance to get low accuracy\r\n",
        "print(\"shape of population\", np.shape(population))\r\n",
        "random_index = random.randint(0, len(population))\r\n",
        "\r\n",
        "#x1 = population.pop(random.randint(0, len(population)-1))\r\n",
        "\r\n",
        "#transpose = [[row[i] for row in matrix] for i in range(2)]\r\n",
        "\r\n",
        "# Select 30 samples from the population randomly\r\n",
        "x1 = np.array([population.pop(random.randint(0, len(population)-1)) for i in range(30)])\r\n",
        "\r\n",
        "\r\n",
        "#random_indices = np.random.randint(0, len(population), size=2)\r\n",
        "#x1 = np.delete(population, random_indices, axis=0)\r\n",
        "#x1 = np.array([np.delete(population, np.random.randint(0, len(population), size=2), 0) for i in range(2)], dtype=object)\r\n",
        "#x1 = population.tolist().pop(random_index)\r\n",
        "#x1 = population.pop(np.random.randint(0, len(population))\r\n",
        "#x1 = [population.pop(np.random.randint(0, len(population)) for i in range(2)]\r\n",
        "#x1 = np.random.choice(population, size=(2, 10), replace=False)\r\n",
        "x2 = np.random.normal(25, 3, size=(100, 10))\r\n",
        "\r\n",
        "print(' x0 {}: \\n  {} \\n ... \\n x1 {}: \\n  {} \\n ... \\n x2 {}: \\n  {} \\n ...'.format(x0.shape, x0[:3], x1.shape, x1[:3], x2.shape, x2[:3]))\r\n",
        "print(\"shape of population\", np.shape(population))\r\n",
        "# print('Epoch: {} \\tTraining Loss: {:.6f}'.format(\r\n",
        "#         epoch+1, \r\n",
        "#         train_loss \r\n",
        "#         ))"
      ],
      "execution_count": 15,
      "outputs": [
        {
          "output_type": "stream",
          "text": [
            "shape of population (500, 10)\n",
            " x0 (100, 10): \n",
            "  [[ 9.66299309  5.79324824  5.67784739 -1.15205803  5.79976866  7.37593808\n",
            "   3.40687511  0.58300364  5.73553326  6.14315092]\n",
            " [ 5.1695759   2.80561997 -0.3470688   4.97157826  2.26030481  5.90045358\n",
            "   1.16246824  6.44732754  7.54140032  4.25860314]\n",
            " [ 4.07605107  1.41736442  4.85318816 -2.71658574  1.72445909  5.54329547\n",
            "   0.46394518  4.27159972 -0.26572982  6.3550189 ]] \n",
            " ... \n",
            " x1 (30, 10): \n",
            "  [[31.29713245  5.90700109 17.84710561 23.20066152 40.90172551 24.79004325\n",
            "  16.78483243 25.49300361  3.77784891 -9.83195158]\n",
            " [22.54757005 -2.1058458  27.1719197  36.22330179 23.70928405 22.73804961\n",
            "  26.08066563 14.19220641 39.61285041 46.81849439]\n",
            " [13.79253547 32.0923612  15.26567417  8.90263791 33.63525113 25.68444034\n",
            "  15.12271289  7.08212581 11.14814285 34.48015779]] \n",
            " ... \n",
            " x2 (100, 10): \n",
            "  [[20.97635742 24.1247207  24.02413528 20.16909208 25.17963386 25.07430475\n",
            "  23.4780404  22.94848314 25.37488755 20.50817496]\n",
            " [17.08250073 25.96380059 21.73801287 28.54225546 25.17663334 24.08532664\n",
            "  26.799903   26.93425403 21.63238189 23.44809331]\n",
            " [25.61732114 25.3337376  24.20728877 21.42849478 30.36764354 19.15750347\n",
            "  25.37371055 21.6837851  21.49682079 22.5401702 ]] \n",
            " ...\n",
            "shape of population (470, 10)\n"
          ],
          "name": "stdout"
        }
      ]
    },
    {
      "cell_type": "code",
      "metadata": {
        "colab": {
          "base_uri": "https://localhost:8080/"
        },
        "id": "vzuqRtG3UmMM",
        "outputId": "fc49345f-7170-45c2-be6c-c2caba4dd437"
      },
      "source": [
        "# Join features\r\n",
        "X = np.concatenate((x0, x1, x2), axis=0)\r\n",
        "print(\" X[1]: \\n  {} \\n X[100]: \\n  {} \\n X[200]: \\n  {} \\n\".format(X[1], X[100], X[200]))\r\n",
        "X.shape"
      ],
      "execution_count": 16,
      "outputs": [
        {
          "output_type": "stream",
          "text": [
            " X[1]: \n",
            "  [ 5.1695759   2.80561997 -0.3470688   4.97157826  2.26030481  5.90045358\n",
            "  1.16246824  6.44732754  7.54140032  4.25860314] \n",
            " X[100]: \n",
            "  [31.29713245  5.90700109 17.84710561 23.20066152 40.90172551 24.79004325\n",
            " 16.78483243 25.49300361  3.77784891 -9.83195158] \n",
            " X[200]: \n",
            "  [26.42447377 24.97680363 27.29926724 30.06272211 25.32072549 28.51702219\n",
            " 25.20866436 18.81874699 24.68313352 25.25879103] \n",
            "\n"
          ],
          "name": "stdout"
        },
        {
          "output_type": "execute_result",
          "data": {
            "text/plain": [
              "(230, 10)"
            ]
          },
          "metadata": {
            "tags": []
          },
          "execution_count": 16
        }
      ]
    },
    {
      "cell_type": "code",
      "metadata": {
        "colab": {
          "base_uri": "https://localhost:8080/"
        },
        "id": "z6olPWNtyE70",
        "outputId": "052a05d6-b170-4a64-a854-d694bf60bf5b"
      },
      "source": [
        "# Create labels\r\n",
        "y0 = np.zeros(100, dtype=int)\r\n",
        "y1 = np.ones(30, dtype=int)\r\n",
        "#y2 = y1 * 2\r\n",
        "y2 = np.full(100, 2, dtype=int)\r\n",
        "y = np.concatenate((y0, y1, y2))\r\n",
        "y.shape"
      ],
      "execution_count": 19,
      "outputs": [
        {
          "output_type": "execute_result",
          "data": {
            "text/plain": [
              "(230,)"
            ]
          },
          "metadata": {
            "tags": []
          },
          "execution_count": 19
        }
      ]
    },
    {
      "cell_type": "code",
      "metadata": {
        "id": "nki_VZMUn60a"
      },
      "source": [
        "# Split the data\r\n",
        "\r\n",
        "X = StandardScaler().fit_transform(X)\r\n",
        "    # X_train, X_test, y_train, y_test = \\\r\n",
        "    #     train_test_split(X, y, test_size=.4, random_state=42)\r\n",
        "\r\n",
        "X_train, X_test, y_train, y_test = train_test_split(X, y, stratify=y, random_state=1)"
      ],
      "execution_count": 20,
      "outputs": []
    },
    {
      "cell_type": "code",
      "metadata": {
        "colab": {
          "base_uri": "https://localhost:8080/"
        },
        "id": "mZ89ZLLMoKUu",
        "outputId": "644278e9-9471-40bf-9df5-20060a9dd272"
      },
      "source": [
        "# Train the model\r\n",
        "from sklearn import linear_model\r\n",
        "\r\n",
        "clf = linear_model.SGDClassifier()\r\n",
        "clf.fit(X_train, y_train)\r\n",
        "# ... \r\n",
        "# SGDClassifier(alpha=0.0001, class_weight=None, epsilon=0.1, eta0=0.0,\r\n",
        "#         fit_intercept=True, l1_ratio=0.15, learning_rate='optimal',\r\n",
        "#         loss='hinge', n_iter=5, n_jobs=1, penalty='l2', power_t=0.5,\r\n",
        "#         random_state=None, shuffle=False,\r\n",
        "#         verbose=0, warm_start=False)\r\n",
        "print(clf.predict([[4.04766425, 2.05826595, 3.53780513, 4.67943289, 4.31188736, 1.38496808, 1.85608032, 4.63458843, 1.75793121, 7.18017014]]))"
      ],
      "execution_count": 21,
      "outputs": [
        {
          "output_type": "stream",
          "text": [
            "[2]\n"
          ],
          "name": "stdout"
        }
      ]
    },
    {
      "cell_type": "code",
      "metadata": {
        "colab": {
          "base_uri": "https://localhost:8080/"
        },
        "id": "HHB7gy-NpK-u",
        "outputId": "390b52af-3e86-4d6b-bf6b-1095a79cc47a"
      },
      "source": [
        "# Evaluate metrics\r\n",
        "y_pred = clf.predict(X_test)\r\n",
        "from sklearn.metrics import classification_report, confusion_matrix\r\n",
        "print(confusion_matrix(y_test, y_pred))\r\n",
        "print(classification_report(y_test, y_pred))\r\n",
        "print(y_pred)"
      ],
      "execution_count": 22,
      "outputs": [
        {
          "output_type": "stream",
          "text": [
            "[[25  0  0]\n",
            " [ 2  5  1]\n",
            " [ 0  0 25]]\n",
            "              precision    recall  f1-score   support\n",
            "\n",
            "           0       0.93      1.00      0.96        25\n",
            "           1       1.00      0.62      0.77         8\n",
            "           2       0.96      1.00      0.98        25\n",
            "\n",
            "    accuracy                           0.95        58\n",
            "   macro avg       0.96      0.88      0.90        58\n",
            "weighted avg       0.95      0.95      0.94        58\n",
            "\n",
            "[0 1 2 2 0 2 0 0 2 2 0 0 0 2 0 2 2 2 2 0 0 2 0 0 0 2 1 2 0 2 0 2 0 2 0 0 0\n",
            " 1 0 0 2 2 0 2 2 0 0 1 2 0 0 0 2 2 1 2 2 2]\n"
          ],
          "name": "stdout"
        }
      ]
    },
    {
      "cell_type": "code",
      "metadata": {
        "colab": {
          "base_uri": "https://localhost:8080/"
        },
        "id": "CI84aRs92Xr0",
        "outputId": "1f266afb-72db-4393-9d56-0b76cf038c03"
      },
      "source": [
        "# Create and train a Multi-layer Perceptron classifier\r\n",
        "from sklearn.neural_network import MLPClassifier\r\n",
        "\r\n",
        "clf2 = MLPClassifier(random_state=1, max_iter=300, warm_start=True).fit(X_train, y_train)\r\n",
        "print(clf2.predict_proba(X_test[:1]))\r\n",
        "print(clf2.predict(X_test[:5, :]))\r\n",
        "print(clf2.score(X_test, y_test))\r\n",
        "\r\n",
        "y_pred2 = clf2.predict(X_test)\r\n",
        "\r\n",
        "# Check other metrics\r\n",
        "print(confusion_matrix(y_test, y_pred2))\r\n",
        "print(classification_report(y_test, y_pred2))\r\n"
      ],
      "execution_count": 203,
      "outputs": [
        {
          "output_type": "stream",
          "text": [
            "[[9.96657225e-01 3.19009131e-03 1.52684023e-04]]\n",
            "[0 1 2 2 0]\n",
            "0.9482758620689655\n",
            "[[25  0  0]\n",
            " [ 2  5  1]\n",
            " [ 0  0 25]]\n",
            "              precision    recall  f1-score   support\n",
            "\n",
            "           0       0.93      1.00      0.96        25\n",
            "           1       1.00      0.62      0.77         8\n",
            "           2       0.96      1.00      0.98        25\n",
            "\n",
            "    accuracy                           0.95        58\n",
            "   macro avg       0.96      0.88      0.90        58\n",
            "weighted avg       0.95      0.95      0.94        58\n",
            "\n"
          ],
          "name": "stdout"
        },
        {
          "output_type": "stream",
          "text": [
            "/usr/local/lib/python3.6/dist-packages/sklearn/neural_network/_multilayer_perceptron.py:571: ConvergenceWarning: Stochastic Optimizer: Maximum iterations (300) reached and the optimization hasn't converged yet.\n",
            "  % self.max_iter, ConvergenceWarning)\n"
          ],
          "name": "stderr"
        }
      ]
    },
    {
      "cell_type": "code",
      "metadata": {
        "colab": {
          "base_uri": "https://localhost:8080/"
        },
        "id": "y1n4_ksd9rsc",
        "outputId": "ee1dbd7d-9177-41a8-d417-617f88ca1d19"
      },
      "source": [
        "len(population)  # see if we have enough samples remained"
      ],
      "execution_count": 206,
      "outputs": [
        {
          "output_type": "execute_result",
          "data": {
            "text/plain": [
              "0"
            ]
          },
          "metadata": {
            "tags": []
          },
          "execution_count": 206
        }
      ]
    },
    {
      "cell_type": "code",
      "metadata": {
        "colab": {
          "base_uri": "https://localhost:8080/"
        },
        "id": "yz2Kjf-73gpY",
        "outputId": "11347768-6cbd-4722-bf96-98ef7ebd9784"
      },
      "source": [
        "# Get 50 more samples from the population\r\n",
        "X1 = np.array([population.pop(random.randint(0, len(population)-1)) for i in range(50)])\r\n",
        "print(X1.shape)\r\n",
        "X1 = np.concatenate((x0[:2], X1, x2[:2]), axis=0)\r\n",
        "print(X1[:3])\r\n",
        "# Y1 = np.ones(200, dtype=int)\r\n",
        "# Y1 = np.concatenate((y0[:2], Y1, y2[:2]), axis=0)\r\n",
        "# Y1"
      ],
      "execution_count": 98,
      "outputs": [
        {
          "output_type": "stream",
          "text": [
            "(50, 10)\n",
            "[[ 9.66299309  5.79324824  5.67784739 -1.15205803  5.79976866  7.37593808\n",
            "   3.40687511  0.58300364  5.73553326  6.14315092]\n",
            " [ 5.1695759   2.80561997 -0.3470688   4.97157826  2.26030481  5.90045358\n",
            "   1.16246824  6.44732754  7.54140032  4.25860314]\n",
            " [ 6.21857683  2.84829733 12.46667732 14.2912174  10.88482442 28.99431137\n",
            "  25.54244085 29.81734963 34.02421411 31.67500868]]\n"
          ],
          "name": "stdout"
        }
      ]
    },
    {
      "cell_type": "code",
      "metadata": {
        "colab": {
          "base_uri": "https://localhost:8080/"
        },
        "id": "Ff-KIOFi_PtE",
        "outputId": "68239cf9-8d40-43f2-f740-45fb88e58ea6"
      },
      "source": [
        "# Prepare relavent labels for the new features\r\n",
        "Y1 = np.ones(50, dtype=int)\r\n",
        "Y1 = np.concatenate((y0[:2], Y1, y2[:2]), axis=0)\r\n",
        "Y1"
      ],
      "execution_count": 99,
      "outputs": [
        {
          "output_type": "execute_result",
          "data": {
            "text/plain": [
              "array([0, 0, 1, 1, 1, 1, 1, 1, 1, 1, 1, 1, 1, 1, 1, 1, 1, 1, 1, 1, 1, 1,\n",
              "       1, 1, 1, 1, 1, 1, 1, 1, 1, 1, 1, 1, 1, 1, 1, 1, 1, 1, 1, 1, 1, 1,\n",
              "       1, 1, 1, 1, 1, 1, 1, 1, 2, 2])"
            ]
          },
          "metadata": {
            "tags": []
          },
          "execution_count": 99
        }
      ]
    },
    {
      "cell_type": "code",
      "metadata": {
        "id": "-RI6lKU_5e81"
      },
      "source": [
        "# Split the data\r\n",
        "X1 = StandardScaler().fit_transform(X1)    \r\n",
        "X1_train, X1_test, y1_train, y1_test = train_test_split(X1, Y1, stratify=Y1, random_state=1)"
      ],
      "execution_count": 100,
      "outputs": []
    },
    {
      "cell_type": "code",
      "metadata": {
        "colab": {
          "base_uri": "https://localhost:8080/"
        },
        "id": "wI0QYekc4W8o",
        "outputId": "646711c4-a78b-41cb-c557-66d5a8c81b60"
      },
      "source": [
        "# Retrain the model with new samples\r\n",
        "\r\n",
        "import statistics\r\n",
        "\r\n",
        "# initilize scores before training\r\n",
        "Score = clf2.score(X_test, y_test)\r\n",
        "Scores = [Score]\r\n",
        "avg = Score\r\n",
        "\r\n",
        "while Score >= 0.9996*avg:\r\n",
        "  clf2.partial_fit(X1_train, y1_train)\r\n",
        "  Score = clf2.score(X_test, y_test)\r\n",
        "  Scores.append(Score)\r\n",
        "  avg = statistics.mean(Scores)\r\n",
        "\r\n",
        "print(\"num of iterations: \", len(Scores)-1)\r\n",
        "# for i in range(50):\r\n",
        "  \r\n",
        "#   #Score = clf2.score(X_test, y_test)\r\n",
        "#   avg = statistics.mean(Scores)\r\n",
        "#   less_avg = 0.99*avg\r\n",
        "\r\n",
        "#   if Score >= less_avg:\r\n",
        "#     clf2.partial_fit(X1_train, y1_train)\r\n",
        "#     Score = clf2.score(X_test, y_test)\r\n",
        "#     Scores.append(Score)\r\n",
        "#     print(\"iterations: \", i)\r\n",
        "#     print(\"mean: {}, score: {}\".format(statistics.mean(Scores), Score))\r\n",
        "#   else:\r\n",
        "#     break\r\n",
        "  \r\n",
        "\r\n",
        "# Check again the evaluation metrics\r\n",
        "y_pred2 = clf2.predict(X_test)\r\n",
        "\r\n",
        "print(clf2.predict_proba(X_test[:1]))\r\n",
        "print(clf2.predict(X_test[:5, :]))\r\n",
        "print(clf2.score(X_test, y_test))\r\n",
        "\r\n",
        "print(confusion_matrix(y_test, y_pred2))\r\n",
        "print(classification_report(y_test, y_pred2))"
      ],
      "execution_count": 204,
      "outputs": [
        {
          "output_type": "stream",
          "text": [
            "num of iterations:  24\n",
            "[[9.02378781e-01 9.69204370e-02 7.00782415e-04]]\n",
            "[0 1 2 2 0]\n",
            "0.9827586206896551\n",
            "[[25  0  0]\n",
            " [ 0  8  0]\n",
            " [ 0  1 24]]\n",
            "              precision    recall  f1-score   support\n",
            "\n",
            "           0       1.00      1.00      1.00        25\n",
            "           1       0.89      1.00      0.94         8\n",
            "           2       1.00      0.96      0.98        25\n",
            "\n",
            "    accuracy                           0.98        58\n",
            "   macro avg       0.96      0.99      0.97        58\n",
            "weighted avg       0.98      0.98      0.98        58\n",
            "\n"
          ],
          "name": "stdout"
        }
      ]
    },
    {
      "cell_type": "code",
      "metadata": {
        "colab": {
          "base_uri": "https://localhost:8080/",
          "height": 301
        },
        "id": "VIMORNOKOJaP",
        "outputId": "55fe5da8-07ac-48e8-839b-871e62bd91df"
      },
      "source": [
        "# Visualize accuracy according to the number of iterations\r\n",
        "%matplotlib inline\r\n",
        "#%config InlineBackend.figure_format = 'retina'\r\n",
        "\r\n",
        "import matplotlib.pyplot as plt\r\n",
        "\r\n",
        "from scipy.interpolate import interp1d\r\n",
        "\r\n",
        "from scipy import interpolate\r\n",
        "\r\n",
        "# x = np.linspace(0, 20, num=20)\r\n",
        "# #y = np.cos(-x**2/9.0)\r\n",
        "# f = interp1d(x, Scores)\r\n",
        "# f2 = interp1d(x, Scores, kind='cubic')\r\n",
        "\r\n",
        "# xnew = np.linspace(0, 20, num=1000)\r\n",
        "# import matplotlib.pyplot as plt\r\n",
        "# plt.plot(x, Scores, 'o', xnew, f(xnew), '-', xnew, f2(xnew), '--')\r\n",
        "# plt.legend(['data', 'linear', 'cubic'], loc='best')\r\n",
        "\r\n",
        "iterations = len(Scores) -1\r\n",
        "print(\"iterations: \",iterations)\r\n",
        "\r\n",
        "x = np.linspace(0, iterations+1, iterations+1)\r\n",
        "\r\n",
        "x_new = np.linspace(1, iterations+1, 1000)\r\n",
        "a_BSpline = interpolate.make_interp_spline(x, Scores)\r\n",
        "y_new = a_BSpline(x_new)\r\n",
        "\r\n",
        "plt.plot(x_new, y_new, label='Score')\r\n",
        "\r\n",
        "# fig = plt.figure()\r\n",
        "# plt.plot(x, Scores, '-', label='Score')\r\n",
        "#plt.plot(x, np.cos(x), '--');\r\n",
        "\r\n",
        "#plt.plot(Scores, label='Score')\r\n",
        "plt.legend(frameon=False)"
      ],
      "execution_count": 215,
      "outputs": [
        {
          "output_type": "stream",
          "text": [
            "iterations:  24\n"
          ],
          "name": "stdout"
        },
        {
          "output_type": "execute_result",
          "data": {
            "text/plain": [
              "<matplotlib.legend.Legend at 0x7f589147b358>"
            ]
          },
          "metadata": {
            "tags": []
          },
          "execution_count": 215
        },
        {
          "output_type": "display_data",
          "data": {
            "image/png": "[encoded data removed]",
            "text/plain": [
              "<Figure size 432x288 with 1 Axes>"
            ]
          },
          "metadata": {
            "tags": [],
            "image/png": {
              "width": 378,
              "height": 248
            },
            "needs_background": "light"
          }
        }
      ]
    },
    {
      "cell_type": "code",
      "metadata": {
        "colab": {
          "base_uri": "https://localhost:8080/"
        },
        "id": "JaE5c7ZFFFhh",
        "outputId": "71063e4f-b88b-4896-f29f-c7bd05108af0"
      },
      "source": [
        "# Retrain the model with new samples\r\n",
        "clf2.fit(X1_train, y1_train)\r\n",
        "\r\n",
        "# Check again the evaluation metrics\r\n",
        "y_pred2 = clf2.predict(X1_test)\r\n",
        "\r\n",
        "print(clf2.predict_proba(X1_test[:1]))\r\n",
        "print(confusion_matrix(y1_test, y_pred2))\r\n",
        "print(classification_report(y1_test, y_pred2))"
      ],
      "execution_count": 30,
      "outputs": [
        {
          "output_type": "stream",
          "text": [
            "[[0.02744999 0.93468872 0.03786129]]\n",
            "[[ 0  0  0]\n",
            " [ 6 38  6]\n",
            " [ 0  0  1]]\n",
            "              precision    recall  f1-score   support\n",
            "\n",
            "           0       0.00      0.00      0.00         0\n",
            "           1       1.00      0.76      0.86        50\n",
            "           2       0.14      1.00      0.25         1\n",
            "\n",
            "    accuracy                           0.76        51\n",
            "   macro avg       0.38      0.59      0.37        51\n",
            "weighted avg       0.98      0.76      0.85        51\n",
            "\n"
          ],
          "name": "stdout"
        },
        {
          "output_type": "stream",
          "text": [
            "/usr/local/lib/python3.6/dist-packages/sklearn/metrics/_classification.py:1272: UndefinedMetricWarning: Recall and F-score are ill-defined and being set to 0.0 in labels with no true samples. Use `zero_division` parameter to control this behavior.\n",
            "  _warn_prf(average, modifier, msg_start, len(result))\n"
          ],
          "name": "stderr"
        }
      ]
    },
    {
      "cell_type": "code",
      "metadata": {
        "colab": {
          "base_uri": "https://localhost:8080/"
        },
        "id": "4xYffw6kzck7",
        "outputId": "4e88982d-2d17-4eed-99ed-7d7f92177dab"
      },
      "source": [
        "X, y = make_classification(n_samples=2, random_state=1)\r\n",
        "X"
      ],
      "execution_count": null,
      "outputs": [
        {
          "output_type": "execute_result",
          "data": {
            "text/plain": [
              "array([[-0.93576943, -1.10051487, -0.87785842,  0.03868869,  0.04221375,\n",
              "        -0.69166075, -0.01748335,  0.90159072, -1.236504  ,  1.14472371,\n",
              "        -0.39675353, -0.26788808,  0.58281521, -0.12289023, -0.17242821,\n",
              "         0.53035547,  0.90085595,  0.50249434, -1.10061918, -0.68372786],\n",
              "       [ 1.6924546 ,  0.23476552, -0.84520564,  0.04116839, -0.67124613,\n",
              "         0.19091548,  0.05086959,  1.65980218,  0.32639651,  0.2344157 ,\n",
              "         2.10025514,  0.05080775, -0.0126646 , -0.74715829, -0.6871727 ,\n",
              "        -0.63699565, -0.19183555,  0.74204416, -1.11731035, -0.88762896]])"
            ]
          },
          "metadata": {
            "tags": []
          },
          "execution_count": 44
        }
      ]
    },
    {
      "cell_type": "code",
      "metadata": {
        "id": "emkwTMit0Idb"
      },
      "source": [
        "# Preprocess data and train the model\r\n",
        "X_train, X_test, y_train, y_test = train_test_split(X, y, stratify=y,\r\n",
        "...                                                     random_state=1)\r\n",
        ">>> clf = MLPClassifier(random_state=1, max_iter=300).fit(X_train, y_train)\r\n",
        ">>> clf.predict_proba(X_test[:1])\r\n",
        "array([[0.038..., 0.961...]])\r\n",
        ">>> clf.predict(X_test[:5, :])\r\n",
        "array([1, 0, 1, 0, 1])\r\n",
        ">>> clf.score(X_test, y_test)\r\n",
        "0.8..."
      ],
      "execution_count": null,
      "outputs": []
    },
    {
      "cell_type": "code",
      "metadata": {
        "id": "YOPgMNhfMrra"
      },
      "source": [
        "from sklearn import linear_model\r\n",
        ">>> X = np.array([[-1, -1], [-2, -1], [1, 1], [2, 1]])\r\n",
        ">>> Y = np.array([1, 1, 2, 2])\r\n",
        ">>> clf = linear_model.SGDClassifier()\r\n",
        ">>> clf.fit(X, Y)\r\n",
        "... \r\n",
        "SGDClassifier(alpha=0.0001, class_weight=None, epsilon=0.1, eta0=0.0,\r\n",
        "        fit_intercept=True, l1_ratio=0.15, learning_rate='optimal',\r\n",
        "        loss='hinge', n_iter=5, n_jobs=1, penalty='l2', power_t=0.5,\r\n",
        "        random_state=None, shuffle=False,\r\n",
        "        verbose=0, warm_start=False)\r\n",
        ">>> print(clf.predict([[-0.8, -1]]))"
      ],
      "execution_count": null,
      "outputs": []
    }
  ]
}